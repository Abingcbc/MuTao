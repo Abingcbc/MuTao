{
 "cells": [
  {
   "cell_type": "code",
   "execution_count": 1,
   "metadata": {},
   "outputs": [],
   "source": [
    "import json\n",
    "import elasticsearch\n",
    "import requests"
   ]
  },
  {
   "cell_type": "code",
   "execution_count": null,
   "metadata": {},
   "outputs": [],
   "source": [
    "es = elasticsearch.Elasticsearch(\"localhost:9200\")"
   ]
  },
  {
   "cell_type": "code",
   "execution_count": null,
   "metadata": {},
   "outputs": [],
   "source": [
    "with open(\"Han.json\") as file:\n",
    "    for i, line in enumerate(file):\n",
    "        temp = json.loads(line)\n",
    "        poem = {}\n",
    "        poem['poetryName'] = temp['poetryName'][0].strip()\n",
    "        poem['poetryDynasty'] = temp['poetryDynasty'][0].strip()\n",
    "        poem['poetryAuthor'] = temp['poetryAuthor'][0].strip()\n",
    "        poem['poetryBody'] = '\\n'.join([sentence.strip() for sentence in temp['poetryBody']])\n",
    "        poem['poetryAnalysis'] = poem['poetryBody']+'\\n'.join([sentence.strip() for sentence in temp['poetryBody']])\n",
    "        if i % 1000 == 0:\n",
    "            print(i)\n",
    "        es.index(index=\"poem\", body=poem)"
   ]
  },
  {
   "cell_type": "code",
   "execution_count": 4,
   "metadata": {},
   "outputs": [
    {
     "name": "stdout",
     "output_type": "stream",
     "text": [
      "{\"took\":14,\"timed_out\":false,\"_shards\":{\"total\":5,\"successful\":5,\"skipped\":0,\"failed\":0},\"hits\":{\"total\":19764,\"max_score\":3.174393,\"hits\":[{\"_index\":\"poem\",\"_type\":\"_doc\",\"_id\":\"CJwCc3EBf5radnYVM4uI\",\"_score\":3.174393,\"_source\":{\"poetryName\":\"花月吟效连珠体十一首 10\",\"poetryDynasty\":\"[明]\",\"poetryAuthor\":\"唐寅\",\"poetryBody\":\"一庭花月正春宵，\\n花气芬芳月正饶；\\n风动花枝探月影，\\n天开月镜照花妖。\\n月中漫击催花鼓，\\n花下轻传弄月箫；\\n只恐月沉花落后，\\n月台香榭两萧条。\",\"poetryAnalysis\":\"一庭花月正春宵，\\n花气芬芳月正饶；\\n风动花枝探月影，\\n天开月镜照花妖。\\n月中漫击催花鼓，\\n花下轻传弄月箫；\\n只恐月沉花落后，\\n月台香榭两萧条。一庭花月正春宵，\\n花气芬芳月正饶；\\n风动花枝探月影，\\n天开月镜照花妖。\\n月中漫击催花鼓，\\n花下轻传弄月箫；\\n只恐月沉花落后，\\n月台香榭两萧条。\"}}]}}\n"
     ]
    }
   ],
   "source": [
    "j = {\"query\": {\"match\": {\"poetryAnalysis\": \"月\"}}, \"size\": 1}\n",
    "header = {\"Content-Type\": \"application/json\"}\n",
    "raw = json.dumps(j)\n",
    "r = requests.post('http://127.0.0.1:9200/poem/_search', data=raw, headers=header)\n",
    "print(str(r.content, encoding='utf-8'))"
   ]
  },
  {
   "cell_type": "code",
   "execution_count": null,
   "metadata": {},
   "outputs": [],
   "source": []
  }
 ],
 "metadata": {
  "kernelspec": {
   "display_name": "Python 3",
   "language": "python",
   "name": "python3"
  },
  "language_info": {
   "codemirror_mode": {
    "name": "ipython",
    "version": 3
   },
   "file_extension": ".py",
   "mimetype": "text/x-python",
   "name": "python",
   "nbconvert_exporter": "python",
   "pygments_lexer": "ipython3",
   "version": "3.6.9"
  }
 },
 "nbformat": 4,
 "nbformat_minor": 2
}
