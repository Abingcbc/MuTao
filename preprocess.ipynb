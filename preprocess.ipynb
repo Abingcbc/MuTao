{
 "cells": [
  {
   "cell_type": "code",
   "execution_count": 1,
   "metadata": {},
   "outputs": [],
   "source": [
    "import json\n",
    "import jieba"
   ]
  },
  {
   "cell_type": "code",
   "execution_count": 2,
   "metadata": {},
   "outputs": [],
   "source": [
    "poem_list = []"
   ]
  },
  {
   "cell_type": "code",
   "execution_count": 3,
   "metadata": {},
   "outputs": [],
   "source": [
    "with open(\"/Users/cbc/Desktop/poem2.json\") as file:\n",
    "    for line in file:\n",
    "        temp = line.replace(\"true\",\"True\")\n",
    "        temp = temp.replace(\"false\",\"False\")\n",
    "        temp = eval(temp)\n",
    "        poem_list.append(temp)"
   ]
  },
  {
   "cell_type": "code",
   "execution_count": 16,
   "metadata": {},
   "outputs": [
    {
     "data": {
      "text/plain": [
       "{'ShiData': [{'Id': 400112,\n",
       "   'GroupIndex': 0,\n",
       "   'Dynasty': '元',\n",
       "   'Author': '张翥',\n",
       "   'Type': '古风',\n",
       "   'Title': {'Content': '北风行', 'Comments': []},\n",
       "   'Clauses': [{'Content': '长河风急波浪恶，'},\n",
       "    {'Content': '青天昼黄尘漠漠，'},\n",
       "    {'Content': '瓠\\ud852\\udf1b渡中舟尽泊。'},\n",
       "    {'Content': '官船扯帆与水争，'},\n",
       "    {'Content': '牵马毛寒挝不行，'},\n",
       "    {'Content': '秃树挂戛枯蓬惊。'},\n",
       "    {'Content': '夜深风定浪声死，'},\n",
       "    {'Content': '窗光倒摇天在水，'},\n",
       "    {'Content': '前伴相呼随雁起。'},\n",
       "    {'Content': '帽絮不暖衣生棱，'},\n",
       "    {'Content': '老贸不语愁河冰，'},\n",
       "    {'Content': '上闸下闸应蹙凌。'},\n",
       "    {'Content': '篙师指直失增减，'},\n",
       "    {'Content': '明星欲明霜似糁，'},\n",
       "    {'Content': '馆陶城南鼓紞紞。'}],\n",
       "   'IsTwoClausesPerSentence': False}],\n",
       " 'Count': 0,\n",
       " 'PageNo': 0,\n",
       " 'PageSize': 0}"
      ]
     },
     "execution_count": 16,
     "metadata": {},
     "output_type": "execute_result"
    }
   ],
   "source": [
    "poem_list[112]"
   ]
  },
  {
   "cell_type": "code",
   "execution_count": 10,
   "metadata": {},
   "outputs": [
    {
     "data": {
      "text/plain": [
       "int"
      ]
     },
     "execution_count": 10,
     "metadata": {},
     "output_type": "execute_result"
    }
   ],
   "source": [
    "type(poem_list[0]['ShiData'][0]['GroupIndex'])"
   ]
  },
  {
   "cell_type": "code",
   "execution_count": 6,
   "metadata": {},
   "outputs": [
    {
     "data": {
      "text/plain": [
       "True"
      ]
     },
     "execution_count": 6,
     "metadata": {},
     "output_type": "execute_result"
    }
   ],
   "source": [
    "poem_list[0]['ShiData'][0]['IsTwoClausesPerSentence']"
   ]
  },
  {
   "cell_type": "code",
   "execution_count": null,
   "metadata": {},
   "outputs": [],
   "source": [
    "poem_list[28]"
   ]
  },
  {
   "cell_type": "code",
   "execution_count": null,
   "metadata": {},
   "outputs": [],
   "source": [
    "poem_list[144]"
   ]
  },
  {
   "cell_type": "code",
   "execution_count": null,
   "metadata": {},
   "outputs": [],
   "source": [
    "len(poem_list)"
   ]
  },
  {
   "cell_type": "code",
   "execution_count": null,
   "metadata": {},
   "outputs": [],
   "source": []
  }
 ],
 "metadata": {
  "kernelspec": {
   "display_name": "Python 3",
   "language": "python",
   "name": "python3"
  },
  "language_info": {
   "codemirror_mode": {
    "name": "ipython",
    "version": 3
   },
   "file_extension": ".py",
   "mimetype": "text/x-python",
   "name": "python",
   "nbconvert_exporter": "python",
   "pygments_lexer": "ipython3",
   "version": "3.7.3"
  }
 },
 "nbformat": 4,
 "nbformat_minor": 2
}
